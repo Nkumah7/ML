{
 "cells": [
  {
   "cell_type": "markdown",
   "id": "2a0624b9-3cf8-49a7-9c87-1df42d3db6dd",
   "metadata": {},
   "source": [
    "# KNN\n",
    "\n",
    "### Predict whether a person will have diabetes or not"
   ]
  },
  {
   "cell_type": "markdown",
   "id": "430faf3b-5f43-4c3a-80a7-d96ca61b9475",
   "metadata": {},
   "source": [
    "## Import Libraries"
   ]
  },
  {
   "cell_type": "code",
   "execution_count": 1,
   "id": "725051a8-3ef7-4fef-ab77-e13868f2a687",
   "metadata": {},
   "outputs": [],
   "source": [
    "import numpy as np\n",
    "import pandas as pd\n",
    "import seaborn as sns\n",
    "import matplotlib.pyplot as plt\n",
    "\n",
    "# import train_test_split for splitting the data\n",
    "from sklearn.model_selection import train_test_split\n",
    "\n",
    "# import StandardScaler for preprocessing, so that there is no bias of large numbers\n",
    "from sklearn.preprocessing import StandardScaler\n",
    "\n",
    "# import KNeighborsClassifier for classifying the data\n",
    "from sklearn.neighbors import KNeighborsClassifier\n",
    "\n",
    "# import tools for testing the data\n",
    "from sklearn.metrics import roc_curve\n",
    "from sklearn.metrics import roc_auc_score\n",
    "from sklearn.metrics import confusion_matrix\n",
    "from sklearn.metrics import classification_report\n",
    "from sklearn.metrics import accuracy_score"
   ]
  },
  {
   "cell_type": "code",
   "execution_count": 2,
   "id": "235d9ffa-445e-4258-acbe-40e8ad910a34",
   "metadata": {},
   "outputs": [
    {
     "name": "stdout",
     "output_type": "stream",
     "text": [
      "768\n",
      "   Pregnancies  Glucose  BloodPressure  SkinThickness  Insulin   BMI  \\\n",
      "0            6      148             72             35        0  33.6   \n",
      "1            1       85             66             29        0  26.6   \n",
      "2            8      183             64              0        0  23.3   \n",
      "3            1       89             66             23       94  28.1   \n",
      "4            0      137             40             35      168  43.1   \n",
      "\n",
      "   DiabetesPedigreeFunction  Age  Outcome  \n",
      "0                     0.627   50        1  \n",
      "1                     0.351   31        0  \n",
      "2                     0.672   32        1  \n",
      "3                     0.167   21        0  \n",
      "4                     2.288   33        1  \n"
     ]
    }
   ],
   "source": [
    "dataset = pd.read_csv('diabetes.csv')\n",
    "print(len(dataset))\n",
    "print(dataset.head())"
   ]
  },
  {
   "cell_type": "markdown",
   "id": "36d31682-08cc-4e35-acf9-f3c2af34ac43",
   "metadata": {},
   "source": [
    "Values of columns like 'Glucose', 'BloodPressure' cannot be accepted as zeroes because it will affect the outcome.\n",
    "We can replace such values with the mean of the respective column."
   ]
  },
  {
   "cell_type": "code",
   "execution_count": 3,
   "id": "5c675a23-cd7e-49ff-9f09-cfa5159b402c",
   "metadata": {},
   "outputs": [],
   "source": [
    "# Replace zeroes\n",
    "zero_not_accepted = ['Glucose', 'BloodPressure', 'SkinThickness', 'BMI', 'Insulin']\n",
    "\n",
    "for column in zero_not_accepted:\n",
    "    # Replace zero with nan\n",
    "    dataset[column] = dataset[column].replace(0, np.NaN)\n",
    "    # Create the mean of the column. skipna=True to skip nans\n",
    "    mean = int(dataset[column].mean(skipna=True))\n",
    "    # Replace the nans with the mean\n",
    "    dataset[column] = dataset[column].replace(np.NaN, mean)"
   ]
  },
  {
   "cell_type": "markdown",
   "id": "aa53d85e-4d6e-4bc5-8c40-ec76d78554ee",
   "metadata": {},
   "source": [
    "### Split the dataset into train and test data"
   ]
  },
  {
   "cell_type": "code",
   "execution_count": 4,
   "id": "ad0be54e-b061-4731-9679-0f7f8b0e73ba",
   "metadata": {},
   "outputs": [],
   "source": [
    "# Split dataset\n",
    "X = dataset.iloc[:, 0:8]\n",
    "y = dataset.iloc[:, 8]\n",
    "X_train, X_test, y_train, y_test = train_test_split(X, y, random_state=0, test_size=0.2)"
   ]
  },
  {
   "cell_type": "markdown",
   "id": "bd62ab0c-93e9-4f86-9b70-0f64246a40cf",
   "metadata": {},
   "source": [
    "### Feature Scaling\n",
    "\n",
    "Note: `Scale features` of any algorithm that computes distance or assumes normality.\n",
    "\n",
    "`StandardScaler()` scales the data. Standardize features by removing the mean and scaling to unit variance.\n",
    "\n",
    "The standard score of a sample x is calculated as:\n",
    "\n",
    "z = (x - u) / s; where `x` is the data point, `u` is the mean of the training samples or zero, and `s` is standard deviation of the training samples."
   ]
  },
  {
   "cell_type": "code",
   "execution_count": 5,
   "id": "b645009e-13a1-4ae4-ad12-b363ced56a49",
   "metadata": {},
   "outputs": [],
   "source": [
    "# Feature scaling\n",
    "sc_X = StandardScaler()\n",
    "\n",
    "# Create scaler on the X_train variable\n",
    "X_train = sc_X.fit_transform(X_train)\n",
    "\n",
    "# Transform X_test\n",
    "X_test = sc_X.transform(X_test)"
   ]
  },
  {
   "cell_type": "markdown",
   "id": "ac6ec3ce-9acf-4419-8337-21cf5550e0ea",
   "metadata": {},
   "source": [
    "### Define the Model\n",
    "\n",
    "Define the model using `KNeighborsClassifier` and fit the train data in the model.\n",
    "\n",
    "N_neighbors here is `K`, `p` is power parameter to define the metric used in `Euclidean` in this case."
   ]
  },
  {
   "cell_type": "code",
   "execution_count": 6,
   "id": "5563e0c1-72f6-4275-b938-f3f72c606e37",
   "metadata": {},
   "outputs": [
    {
     "data": {
      "text/plain": [
       "12.409673645990857"
      ]
     },
     "execution_count": 6,
     "metadata": {},
     "output_type": "execute_result"
    }
   ],
   "source": [
    "# To pick K, get the square root of the y_test data points \n",
    "import math\n",
    "math.sqrt(len(y_test))\n",
    "\n",
    "# Produces an even number. Cannot use an even number so 1 is taken from it to make it an odd number."
   ]
  },
  {
   "cell_type": "code",
   "execution_count": 7,
   "id": "ba3da6a5-1acf-4358-9b20-29f0f5be5132",
   "metadata": {},
   "outputs": [],
   "source": [
    "# Define the model: Init K-NN\n",
    "# n_neighbors is K, p is 2 because we are investigatin 2 classfications (diabetic or not diabetic)\n",
    "# euclidean is the most common metric and it works quite well.\n",
    "classifier = KNeighborsClassifier(n_neighbors = 11, p = 2, metric = 'euclidean')"
   ]
  },
  {
   "cell_type": "code",
   "execution_count": 8,
   "id": "a837837c-72dc-41ec-ab20-9c0b2f43ae20",
   "metadata": {},
   "outputs": [
    {
     "data": {
      "text/html": [
       "<style>#sk-container-id-1 {color: black;background-color: white;}#sk-container-id-1 pre{padding: 0;}#sk-container-id-1 div.sk-toggleable {background-color: white;}#sk-container-id-1 label.sk-toggleable__label {cursor: pointer;display: block;width: 100%;margin-bottom: 0;padding: 0.3em;box-sizing: border-box;text-align: center;}#sk-container-id-1 label.sk-toggleable__label-arrow:before {content: \"▸\";float: left;margin-right: 0.25em;color: #696969;}#sk-container-id-1 label.sk-toggleable__label-arrow:hover:before {color: black;}#sk-container-id-1 div.sk-estimator:hover label.sk-toggleable__label-arrow:before {color: black;}#sk-container-id-1 div.sk-toggleable__content {max-height: 0;max-width: 0;overflow: hidden;text-align: left;background-color: #f0f8ff;}#sk-container-id-1 div.sk-toggleable__content pre {margin: 0.2em;color: black;border-radius: 0.25em;background-color: #f0f8ff;}#sk-container-id-1 input.sk-toggleable__control:checked~div.sk-toggleable__content {max-height: 200px;max-width: 100%;overflow: auto;}#sk-container-id-1 input.sk-toggleable__control:checked~label.sk-toggleable__label-arrow:before {content: \"▾\";}#sk-container-id-1 div.sk-estimator input.sk-toggleable__control:checked~label.sk-toggleable__label {background-color: #d4ebff;}#sk-container-id-1 div.sk-label input.sk-toggleable__control:checked~label.sk-toggleable__label {background-color: #d4ebff;}#sk-container-id-1 input.sk-hidden--visually {border: 0;clip: rect(1px 1px 1px 1px);clip: rect(1px, 1px, 1px, 1px);height: 1px;margin: -1px;overflow: hidden;padding: 0;position: absolute;width: 1px;}#sk-container-id-1 div.sk-estimator {font-family: monospace;background-color: #f0f8ff;border: 1px dotted black;border-radius: 0.25em;box-sizing: border-box;margin-bottom: 0.5em;}#sk-container-id-1 div.sk-estimator:hover {background-color: #d4ebff;}#sk-container-id-1 div.sk-parallel-item::after {content: \"\";width: 100%;border-bottom: 1px solid gray;flex-grow: 1;}#sk-container-id-1 div.sk-label:hover label.sk-toggleable__label {background-color: #d4ebff;}#sk-container-id-1 div.sk-serial::before {content: \"\";position: absolute;border-left: 1px solid gray;box-sizing: border-box;top: 0;bottom: 0;left: 50%;z-index: 0;}#sk-container-id-1 div.sk-serial {display: flex;flex-direction: column;align-items: center;background-color: white;padding-right: 0.2em;padding-left: 0.2em;position: relative;}#sk-container-id-1 div.sk-item {position: relative;z-index: 1;}#sk-container-id-1 div.sk-parallel {display: flex;align-items: stretch;justify-content: center;background-color: white;position: relative;}#sk-container-id-1 div.sk-item::before, #sk-container-id-1 div.sk-parallel-item::before {content: \"\";position: absolute;border-left: 1px solid gray;box-sizing: border-box;top: 0;bottom: 0;left: 50%;z-index: -1;}#sk-container-id-1 div.sk-parallel-item {display: flex;flex-direction: column;z-index: 1;position: relative;background-color: white;}#sk-container-id-1 div.sk-parallel-item:first-child::after {align-self: flex-end;width: 50%;}#sk-container-id-1 div.sk-parallel-item:last-child::after {align-self: flex-start;width: 50%;}#sk-container-id-1 div.sk-parallel-item:only-child::after {width: 0;}#sk-container-id-1 div.sk-dashed-wrapped {border: 1px dashed gray;margin: 0 0.4em 0.5em 0.4em;box-sizing: border-box;padding-bottom: 0.4em;background-color: white;}#sk-container-id-1 div.sk-label label {font-family: monospace;font-weight: bold;display: inline-block;line-height: 1.2em;}#sk-container-id-1 div.sk-label-container {text-align: center;}#sk-container-id-1 div.sk-container {/* jupyter's `normalize.less` sets `[hidden] { display: none; }` but bootstrap.min.css set `[hidden] { display: none !important; }` so we also need the `!important` here to be able to override the default hidden behavior on the sphinx rendered scikit-learn.org. See: https://github.com/scikit-learn/scikit-learn/issues/21755 */display: inline-block !important;position: relative;}#sk-container-id-1 div.sk-text-repr-fallback {display: none;}</style><div id=\"sk-container-id-1\" class=\"sk-top-container\"><div class=\"sk-text-repr-fallback\"><pre>KNeighborsClassifier(metric=&#x27;euclidean&#x27;, n_neighbors=11)</pre><b>In a Jupyter environment, please rerun this cell to show the HTML representation or trust the notebook. <br />On GitHub, the HTML representation is unable to render, please try loading this page with nbviewer.org.</b></div><div class=\"sk-container\" hidden><div class=\"sk-item\"><div class=\"sk-estimator sk-toggleable\"><input class=\"sk-toggleable__control sk-hidden--visually\" id=\"sk-estimator-id-1\" type=\"checkbox\" checked><label for=\"sk-estimator-id-1\" class=\"sk-toggleable__label sk-toggleable__label-arrow\">KNeighborsClassifier</label><div class=\"sk-toggleable__content\"><pre>KNeighborsClassifier(metric=&#x27;euclidean&#x27;, n_neighbors=11)</pre></div></div></div></div></div>"
      ],
      "text/plain": [
       "KNeighborsClassifier(metric='euclidean', n_neighbors=11)"
      ]
     },
     "execution_count": 8,
     "metadata": {},
     "output_type": "execute_result"
    }
   ],
   "source": [
    "# Fit Model\n",
    "classifier.fit(X_train, y_train)"
   ]
  },
  {
   "cell_type": "code",
   "execution_count": 9,
   "id": "b614012d-e95d-487a-978e-f833d7869ae3",
   "metadata": {},
   "outputs": [
    {
     "data": {
      "text/plain": [
       "array([1, 0, 0, 1, 0, 0, 1, 1, 0, 0, 1, 1, 0, 0, 0, 0, 1, 0, 0, 0, 1, 0,\n",
       "       0, 0, 0, 0, 0, 1, 0, 0, 1, 0, 0, 1, 0, 1, 0, 0, 0, 1, 0, 0, 0, 1,\n",
       "       1, 0, 0, 0, 0, 0, 1, 0, 1, 1, 0, 0, 0, 1, 0, 1, 1, 0, 0, 1, 1, 1,\n",
       "       1, 0, 0, 0, 0, 0, 0, 1, 1, 0, 0, 1, 0, 0, 0, 0, 0, 0, 0, 0, 0, 0,\n",
       "       1, 0, 0, 0, 0, 0, 1, 0, 0, 1, 1, 1, 0, 0, 0, 0, 1, 1, 0, 1, 0, 1,\n",
       "       0, 0, 1, 1, 1, 1, 0, 0, 0, 1, 0, 0, 0, 0, 0, 0, 0, 0, 0, 0, 0, 0,\n",
       "       0, 0, 0, 1, 0, 0, 0, 0, 0, 1, 0, 0, 1, 0, 0, 0, 0, 0, 0, 0, 0, 0],\n",
       "      dtype=int64)"
      ]
     },
     "execution_count": 9,
     "metadata": {},
     "output_type": "execute_result"
    }
   ],
   "source": [
    "# Predict the test set results\n",
    "y_pred = classifier.predict(X_test)\n",
    "y_pred"
   ]
  },
  {
   "cell_type": "code",
   "execution_count": 10,
   "id": "d7229701-0e11-4bfe-96b9-1a9630eaf6d6",
   "metadata": {},
   "outputs": [
    {
     "name": "stdout",
     "output_type": "stream",
     "text": [
      "Confusion matrix\n",
      "\n",
      " [[94 13]\n",
      " [15 32]]\n"
     ]
    }
   ],
   "source": [
    "# Evaluate Model - it is important to evalute the model \n",
    "cm = confusion_matrix(y_test, y_pred)\n",
    "\n",
    "print('Confusion matrix\\n\\n', cm)"
   ]
  },
  {
   "cell_type": "code",
   "execution_count": 11,
   "id": "d02e119a-e25e-4a42-8fcc-03ff240994b1",
   "metadata": {},
   "outputs": [],
   "source": [
    "# Confusion matrix outcomes\n",
    "TP = cm[0, 0]\n",
    "TN = cm[1, 1]\n",
    "FP = cm[0, 1]\n",
    "FN = cm[1, 0]"
   ]
  },
  {
   "cell_type": "code",
   "execution_count": 12,
   "id": "dea1d05d-a96f-4f20-97b9-5f9c5a78cf80",
   "metadata": {},
   "outputs": [
    {
     "data": {
      "text/plain": [
       "<AxesSubplot:>"
      ]
     },
     "execution_count": 12,
     "metadata": {},
     "output_type": "execute_result"
    },
    {
     "data": {
      "image/png": "[encoded data removed]",
      "text/plain": [
       "<Figure size 432x288 with 2 Axes>"
      ]
     },
     "metadata": {
      "needs_background": "light"
     },
     "output_type": "display_data"
    }
   ],
   "source": [
    "# Visualize confusion matrix with seaborn heatmap\n",
    "\n",
    "cm_matrix = pd.DataFrame(data=cm, columns=['Actual Positive:1', 'Actual Negative:0'], \n",
    "                                 index=['Predict Positive:1', 'Predict Negative:0'])\n",
    "\n",
    "sns.heatmap(cm_matrix, annot=True, fmt='d', cmap='YlGnBu')"
   ]
  },
  {
   "cell_type": "markdown",
   "id": "e707166f-21a0-4b1b-bf83-0b8d39d0d260",
   "metadata": {},
   "source": [
    "## Classification Metrics\n",
    "\n",
    "Classification Report\n",
    "\n",
    "This is a way to evaluate the classification model performance. It displays precision, recall, f1 and support scores for the model"
   ]
  },
  {
   "cell_type": "code",
   "execution_count": 13,
   "id": "fc914c7c-6081-4db3-b632-1c577b984fb7",
   "metadata": {},
   "outputs": [
    {
     "name": "stdout",
     "output_type": "stream",
     "text": [
      "              precision    recall  f1-score   support\n",
      "\n",
      "           0       0.86      0.88      0.87       107\n",
      "           1       0.71      0.68      0.70        47\n",
      "\n",
      "    accuracy                           0.82       154\n",
      "   macro avg       0.79      0.78      0.78       154\n",
      "weighted avg       0.82      0.82      0.82       154\n",
      "\n"
     ]
    }
   ],
   "source": [
    "print(classification_report(y_test, y_pred))"
   ]
  },
  {
   "cell_type": "markdown",
   "id": "8c94a079-64d1-4281-99d4-3f343ec18240",
   "metadata": {},
   "source": [
    "#### Classification Accuracy"
   ]
  },
  {
   "cell_type": "code",
   "execution_count": 14,
   "id": "942d30d0-bd61-4efb-916c-ce9bfb12918d",
   "metadata": {},
   "outputs": [
    {
     "name": "stdout",
     "output_type": "stream",
     "text": [
      "Classification accuracy : 0.8182\n"
     ]
    }
   ],
   "source": [
    "# print classification accuracy\n",
    "\n",
    "classification_accuracy = (TP + TN) / float(TP + TN + FP + FN)\n",
    "\n",
    "print('Classification accuracy : {0:0.4f}'.format(classification_accuracy))"
   ]
  },
  {
   "cell_type": "markdown",
   "id": "1b49e945-2756-4caf-9749-0ef2423282a8",
   "metadata": {},
   "source": [
    "#### Classification Error"
   ]
  },
  {
   "cell_type": "code",
   "execution_count": 15,
   "id": "110ecc25-c028-440f-8dfb-2ba0ddd76ce4",
   "metadata": {},
   "outputs": [
    {
     "name": "stdout",
     "output_type": "stream",
     "text": [
      "Classification error : 0.1818\n"
     ]
    }
   ],
   "source": [
    "# print classification error\n",
    "\n",
    "classification_error = (FP + FN) / float(TP + TN + FP + FN)\n",
    "\n",
    "print('Classification error : {0:0.4f}'.format(classification_error))"
   ]
  },
  {
   "cell_type": "markdown",
   "id": "1721a190-e004-4edd-b669-374f66e5c951",
   "metadata": {},
   "source": [
    "#### Precision\n",
    "\n",
    "Precision is the percentage of correctly predicted positive outcomes out of all the predicted positive outcomes. It can be given as the ratio of true positives (TP) to the sum of true and false positives (TP + FP).\n",
    "\n",
    "So, Precision identifies the proportion of correctly predicted positive outcome. It is more concerned with the positive class than the negative class."
   ]
  },
  {
   "cell_type": "code",
   "execution_count": 16,
   "id": "fdbc4246-4ed4-419f-a953-60dd98a3966f",
   "metadata": {},
   "outputs": [
    {
     "name": "stdout",
     "output_type": "stream",
     "text": [
      "Precision : 0.8785\n"
     ]
    }
   ],
   "source": [
    "# print precision score\n",
    "\n",
    "precision = TP / float(TP + FP)\n",
    "\n",
    "\n",
    "print('Precision : {0:0.4f}'.format(precision))"
   ]
  },
  {
   "cell_type": "markdown",
   "id": "22b2b1ad-6159-4c19-80f0-717e6e82e22b",
   "metadata": {},
   "source": [
    "#### Recall\n",
    "\n",
    "Recall can be defined as the percentage of correctly predicted positive outcomes out of all the actual positive outcomes. It can be given as the ratio of true positives (TP) to the sum of true positives and false negatives (TP + FN). Recall is also called Sensitivity.\n",
    "\n",
    "Recall identifies the proportion of correctly predicted actual positives."
   ]
  },
  {
   "cell_type": "code",
   "execution_count": 17,
   "id": "aa0e2bf0-4ee2-456a-aa46-aa2679abeb95",
   "metadata": {},
   "outputs": [
    {
     "name": "stdout",
     "output_type": "stream",
     "text": [
      "Recall or Sensitivity : 0.8624\n"
     ]
    }
   ],
   "source": [
    "recall = TP / float(TP + FN)\n",
    "\n",
    "print('Recall or Sensitivity : {0:0.4f}'.format(recall))"
   ]
  },
  {
   "cell_type": "markdown",
   "id": "af07787a-1b63-4753-9d76-57d9d6de12f9",
   "metadata": {},
   "source": [
    "#### Specificity"
   ]
  },
  {
   "cell_type": "code",
   "execution_count": 18,
   "id": "16371593-5227-43e7-9f43-ffd5bcb7e901",
   "metadata": {},
   "outputs": [
    {
     "name": "stdout",
     "output_type": "stream",
     "text": [
      "Specificity : 0.7111\n"
     ]
    }
   ],
   "source": [
    "specificity = TN / (TN + FP)\n",
    "\n",
    "print('Specificity : {0:0.4f}'.format(specificity))"
   ]
  },
  {
   "cell_type": "markdown",
   "id": "6061f079-72de-4396-9233-ae0f4d029529",
   "metadata": {},
   "source": [
    "#### f1-score\n",
    "\n",
    "The F1 score is the harmonic mean of precision and recall. Whereas the regular mean treats all values equally, the harmonic mean gives much more weight to low values. As a result, the classifier will only get a high F1\n",
    " score if both recall and precision are high.\n",
    " \n",
    " \n",
    "#### Support\n",
    "\n",
    "Support is the actual number of occurrences of the class in our dataset."
   ]
  },
  {
   "cell_type": "markdown",
   "id": "0aa2863a-207c-496d-84ec-21942563496c",
   "metadata": {},
   "source": [
    "#### ROC Curve\n",
    "\n",
    "The receiver operating characteristic (ROC) curve is a common tool used with binary classifiers to plot `true positive rate` against `false positive rate`. The FPR is the ratio of negative instances that are incorrectly classified as positive. It is equal to one minus the `true negative rate`, which is the ratio of negative instances that are correctly classified as negative. The TNR is also called `specificity`. Hence the ROC curve plots `sensitivity` (recall) versus 1 – `specificity`."
   ]
  },
  {
   "cell_type": "code",
   "execution_count": 19,
   "id": "3a816e2c-fa7c-4896-9e58-876bcc01f49c",
   "metadata": {},
   "outputs": [
    {
     "data": {
      "image/png": "[encoded data removed]",
      "text/plain": [
       "<Figure size 432x288 with 1 Axes>"
      ]
     },
     "metadata": {
      "needs_background": "light"
     },
     "output_type": "display_data"
    }
   ],
   "source": [
    "fpr, tpr, thresholds = roc_curve(y_test, y_pred)\n",
    "plt.figure(figsize=(6,4))\n",
    "plt.plot(fpr, tpr, linewidth=2)\n",
    "plt.plot([0,1], [0,1], 'k--' )\n",
    "plt.rcParams['font.size'] = 12\n",
    "plt.title('ROC curve for Predicting a Diabetes classifier')\n",
    "plt.xlabel('False Positive Rate (1 - Specificity)')\n",
    "plt.ylabel('True Positive Rate (Sensitivity)')\n",
    "plt.show()"
   ]
  },
  {
   "cell_type": "code",
   "execution_count": 20,
   "id": "04d49398-a7a8-4f41-8281-f630161bb926",
   "metadata": {},
   "outputs": [
    {
     "name": "stdout",
     "output_type": "stream",
     "text": [
      "ROC AUC : 0.7797\n"
     ]
    }
   ],
   "source": [
    "# compute ROC AUC\n",
    "ROC_AUC = roc_auc_score(y_test, y_pred)\n",
    "\n",
    "print('ROC AUC : {:.4f}'.format(ROC_AUC))"
   ]
  },
  {
   "cell_type": "markdown",
   "id": "4bf23174-5127-4348-8139-79b939bfec9c",
   "metadata": {},
   "source": [
    "# Summary\n",
    "\n",
    "KNearest Neighbors (KNN) was the algorithm used to train the data to predict if a person has diabetes or not. The model used a K value of 11, which was evaluated from the square root of the testing data. The value 12.409673645990857, however an odd number close to the evaluated value was picked because it is better to use an odd number as K to train KNNs.\n",
    "\n",
    "\n",
    "#### Confusion Matrix\n",
    "\n",
    "The Confusion Matrix was evaluated and the results are as follows:\n",
    "\n",
    "True Positives (TP) = 94\n",
    "\n",
    "True Negatives (TN) = 32\n",
    "\n",
    "False Positives (FP) = 13\n",
    "\n",
    "False Negatives (FN) = 15\n",
    "\n",
    "The confusion matrix shows `94 + 32 = 126 correct predictions` and `13 + 15 incorrect predictions`.\n",
    "\n",
    "This case shows:\n",
    "\n",
    "`True Positives` -> 94 -> Those who were predicted to have diabetes and had diabetes.\n",
    "\n",
    "`True Negatives` -> 32 -> Those who were predicted to not have diabetes and didn't have diabetes.\n",
    "\n",
    "`False Positives` -> 13 (Type I error) -> Those who were predicted to have diabetes and didn't have diabetes\n",
    "\n",
    "`False Negatives`-> 15 (Type II error) -> Those who were predicted to not have diabets and had diabetes.\n",
    "\n",
    "\n",
    "#### Classification Metrics\n",
    "\n",
    "The Classification Accuracy value of 0.8182 was evaluated with `K = 11` and `euclidean` metrics. With this accuracy value, we can conclude that out of 10 diagnosis, there is possibility of getting 2 incorrect diagnosis and 8 correct diagnosis results of diabetes.\n",
    "\n",
    "The Precision value of 0.8785 means that diagnosis of 1 of every 10 patients does not have diabetes, and 9 have diabetes.\n",
    "\n",
    "The Recall value of 0.8624 means that diagnosis of 1 of every 10 patients, is missed by the model and 9 are correctly diagnosed with diabetes.\n",
    "\n",
    "The Specificity value of 0.7111 means that 3 of every 10 patients are diagnosed incorrectly with diabetes and 7 are correctly diagnosed with diabetes."
   ]
  }
 ],
 "metadata": {
  "kernelspec": {
   "display_name": "Python 3 (ipykernel)",
   "language": "python",
   "name": "python3"
  },
  "language_info": {
   "codemirror_mode": {
    "name": "ipython",
    "version": 3
   },
   "file_extension": ".py",
   "mimetype": "text/x-python",
   "name": "python",
   "nbconvert_exporter": "python",
   "pygments_lexer": "ipython3",
   "version": "3.10.5"
  }
 },
 "nbformat": 4,
 "nbformat_minor": 5
}
